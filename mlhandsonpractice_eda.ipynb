{
  "nbformat": 4,
  "nbformat_minor": 0,
  "metadata": {
    "colab": {
      "provenance": []
    },
    "kernelspec": {
      "name": "python3",
      "display_name": "Python 3"
    },
    "language_info": {
      "name": "python"
    }
  },
  "cells": [
    {
      "cell_type": "code",
      "execution_count": null,
      "metadata": {
        "id": "H5EGHZs5CjjX"
      },
      "outputs": [],
      "source": [
        "import pandas as pd\n",
        "import numpy as np\n",
        "import seaborn as sns"
      ]
    },
    {
      "cell_type": "code",
      "source": [
        "df = pd.read_csv('/content/indian_food_cleaned.csv')"
      ],
      "metadata": {
        "id": "mlWfiAuNCscu"
      },
      "execution_count": null,
      "outputs": []
    },
    {
      "cell_type": "markdown",
      "source": [
        "Understanding The Data"
      ],
      "metadata": {
        "id": "VjjI4Un1C3po"
      }
    },
    {
      "cell_type": "code",
      "source": [
        "df.info()  # data types of columns"
      ],
      "metadata": {
        "colab": {
          "base_uri": "https://localhost:8080/"
        },
        "id": "rSWG5zUBC20x",
        "outputId": "1d2290c4-a94e-4ddc-d4be-a3fcb8bcd47c"
      },
      "execution_count": null,
      "outputs": [
        {
          "output_type": "stream",
          "name": "stdout",
          "text": [
            "<class 'pandas.core.frame.DataFrame'>\n",
            "RangeIndex: 255 entries, 0 to 254\n",
            "Data columns (total 44 columns):\n",
            " #   Column                 Non-Null Count  Dtype \n",
            "---  ------                 --------------  ----- \n",
            " 0   name                   255 non-null    object\n",
            " 1   ingredients            255 non-null    object\n",
            " 2   prep_time              255 non-null    int64 \n",
            " 3   cook_time              255 non-null    int64 \n",
            " 4   total_time             255 non-null    int64 \n",
            " 5   diet_veg               255 non-null    bool  \n",
            " 6   course_main course     255 non-null    bool  \n",
            " 7   course_snack           255 non-null    bool  \n",
            " 8   course_starter         255 non-null    bool  \n",
            " 9   state_Andhra Pradesh   255 non-null    bool  \n",
            " 10  state_Assam            255 non-null    bool  \n",
            " 11  state_Bihar            255 non-null    bool  \n",
            " 12  state_Chhattisgarh     255 non-null    bool  \n",
            " 13  state_Goa              255 non-null    bool  \n",
            " 14  state_Gujarat          255 non-null    bool  \n",
            " 15  state_Haryana          255 non-null    bool  \n",
            " 16  state_Jammu & Kashmir  255 non-null    bool  \n",
            " 17  state_Karnataka        255 non-null    bool  \n",
            " 18  state_Kerala           255 non-null    bool  \n",
            " 19  state_Madhya Pradesh   255 non-null    bool  \n",
            " 20  state_Maharashtra      255 non-null    bool  \n",
            " 21  state_Manipur          255 non-null    bool  \n",
            " 22  state_NCT of Delhi     255 non-null    bool  \n",
            " 23  state_Nagaland         255 non-null    bool  \n",
            " 24  state_Odisha           255 non-null    bool  \n",
            " 25  state_Punjab           255 non-null    bool  \n",
            " 26  state_Rajasthan        255 non-null    bool  \n",
            " 27  state_Tamil Nadu       255 non-null    bool  \n",
            " 28  state_Telangana        255 non-null    bool  \n",
            " 29  state_Tripura          255 non-null    bool  \n",
            " 30  state_Uttar Pradesh    255 non-null    bool  \n",
            " 31  state_Uttarakhand      255 non-null    bool  \n",
            " 32  state_West Bengal      255 non-null    bool  \n",
            " 33  region_Central         255 non-null    bool  \n",
            " 34  region_East            255 non-null    bool  \n",
            " 35  region_North           255 non-null    bool  \n",
            " 36  region_North East      255 non-null    bool  \n",
            " 37  region_South           255 non-null    bool  \n",
            " 38  region_Unknown         255 non-null    bool  \n",
            " 39  region_West            255 non-null    bool  \n",
            " 40  flavor_profile_bitter  255 non-null    bool  \n",
            " 41  flavor_profile_sour    255 non-null    bool  \n",
            " 42  flavor_profile_spicy   255 non-null    bool  \n",
            " 43  flavor_profile_sweet   255 non-null    bool  \n",
            "dtypes: bool(39), int64(3), object(2)\n",
            "memory usage: 19.8+ KB\n"
          ]
        }
      ]
    },
    {
      "cell_type": "code",
      "source": [
        "df.isnull().sum()"
      ],
      "metadata": {
        "colab": {
          "base_uri": "https://localhost:8080/",
          "height": 1000
        },
        "id": "r9wNLVA4DBbI",
        "outputId": "d05bcc10-6c73-444e-b6e7-a72708ca968f"
      },
      "execution_count": null,
      "outputs": [
        {
          "output_type": "execute_result",
          "data": {
            "text/plain": [
              "name                     0\n",
              "ingredients              0\n",
              "prep_time                0\n",
              "cook_time                0\n",
              "total_time               0\n",
              "diet_veg                 0\n",
              "course_main course       0\n",
              "course_snack             0\n",
              "course_starter           0\n",
              "state_Andhra Pradesh     0\n",
              "state_Assam              0\n",
              "state_Bihar              0\n",
              "state_Chhattisgarh       0\n",
              "state_Goa                0\n",
              "state_Gujarat            0\n",
              "state_Haryana            0\n",
              "state_Jammu & Kashmir    0\n",
              "state_Karnataka          0\n",
              "state_Kerala             0\n",
              "state_Madhya Pradesh     0\n",
              "state_Maharashtra        0\n",
              "state_Manipur            0\n",
              "state_NCT of Delhi       0\n",
              "state_Nagaland           0\n",
              "state_Odisha             0\n",
              "state_Punjab             0\n",
              "state_Rajasthan          0\n",
              "state_Tamil Nadu         0\n",
              "state_Telangana          0\n",
              "state_Tripura            0\n",
              "state_Uttar Pradesh      0\n",
              "state_Uttarakhand        0\n",
              "state_West Bengal        0\n",
              "region_Central           0\n",
              "region_East              0\n",
              "region_North             0\n",
              "region_North East        0\n",
              "region_South             0\n",
              "region_Unknown           0\n",
              "region_West              0\n",
              "flavor_profile_bitter    0\n",
              "flavor_profile_sour      0\n",
              "flavor_profile_spicy     0\n",
              "flavor_profile_sweet     0\n",
              "dtype: int64"
            ],
            "text/html": [
              "<div>\n",
              "<style scoped>\n",
              "    .dataframe tbody tr th:only-of-type {\n",
              "        vertical-align: middle;\n",
              "    }\n",
              "\n",
              "    .dataframe tbody tr th {\n",
              "        vertical-align: top;\n",
              "    }\n",
              "\n",
              "    .dataframe thead th {\n",
              "        text-align: right;\n",
              "    }\n",
              "</style>\n",
              "<table border=\"1\" class=\"dataframe\">\n",
              "  <thead>\n",
              "    <tr style=\"text-align: right;\">\n",
              "      <th></th>\n",
              "      <th>0</th>\n",
              "    </tr>\n",
              "  </thead>\n",
              "  <tbody>\n",
              "    <tr>\n",
              "      <th>name</th>\n",
              "      <td>0</td>\n",
              "    </tr>\n",
              "    <tr>\n",
              "      <th>ingredients</th>\n",
              "      <td>0</td>\n",
              "    </tr>\n",
              "    <tr>\n",
              "      <th>prep_time</th>\n",
              "      <td>0</td>\n",
              "    </tr>\n",
              "    <tr>\n",
              "      <th>cook_time</th>\n",
              "      <td>0</td>\n",
              "    </tr>\n",
              "    <tr>\n",
              "      <th>total_time</th>\n",
              "      <td>0</td>\n",
              "    </tr>\n",
              "    <tr>\n",
              "      <th>diet_veg</th>\n",
              "      <td>0</td>\n",
              "    </tr>\n",
              "    <tr>\n",
              "      <th>course_main course</th>\n",
              "      <td>0</td>\n",
              "    </tr>\n",
              "    <tr>\n",
              "      <th>course_snack</th>\n",
              "      <td>0</td>\n",
              "    </tr>\n",
              "    <tr>\n",
              "      <th>course_starter</th>\n",
              "      <td>0</td>\n",
              "    </tr>\n",
              "    <tr>\n",
              "      <th>state_Andhra Pradesh</th>\n",
              "      <td>0</td>\n",
              "    </tr>\n",
              "    <tr>\n",
              "      <th>state_Assam</th>\n",
              "      <td>0</td>\n",
              "    </tr>\n",
              "    <tr>\n",
              "      <th>state_Bihar</th>\n",
              "      <td>0</td>\n",
              "    </tr>\n",
              "    <tr>\n",
              "      <th>state_Chhattisgarh</th>\n",
              "      <td>0</td>\n",
              "    </tr>\n",
              "    <tr>\n",
              "      <th>state_Goa</th>\n",
              "      <td>0</td>\n",
              "    </tr>\n",
              "    <tr>\n",
              "      <th>state_Gujarat</th>\n",
              "      <td>0</td>\n",
              "    </tr>\n",
              "    <tr>\n",
              "      <th>state_Haryana</th>\n",
              "      <td>0</td>\n",
              "    </tr>\n",
              "    <tr>\n",
              "      <th>state_Jammu &amp; Kashmir</th>\n",
              "      <td>0</td>\n",
              "    </tr>\n",
              "    <tr>\n",
              "      <th>state_Karnataka</th>\n",
              "      <td>0</td>\n",
              "    </tr>\n",
              "    <tr>\n",
              "      <th>state_Kerala</th>\n",
              "      <td>0</td>\n",
              "    </tr>\n",
              "    <tr>\n",
              "      <th>state_Madhya Pradesh</th>\n",
              "      <td>0</td>\n",
              "    </tr>\n",
              "    <tr>\n",
              "      <th>state_Maharashtra</th>\n",
              "      <td>0</td>\n",
              "    </tr>\n",
              "    <tr>\n",
              "      <th>state_Manipur</th>\n",
              "      <td>0</td>\n",
              "    </tr>\n",
              "    <tr>\n",
              "      <th>state_NCT of Delhi</th>\n",
              "      <td>0</td>\n",
              "    </tr>\n",
              "    <tr>\n",
              "      <th>state_Nagaland</th>\n",
              "      <td>0</td>\n",
              "    </tr>\n",
              "    <tr>\n",
              "      <th>state_Odisha</th>\n",
              "      <td>0</td>\n",
              "    </tr>\n",
              "    <tr>\n",
              "      <th>state_Punjab</th>\n",
              "      <td>0</td>\n",
              "    </tr>\n",
              "    <tr>\n",
              "      <th>state_Rajasthan</th>\n",
              "      <td>0</td>\n",
              "    </tr>\n",
              "    <tr>\n",
              "      <th>state_Tamil Nadu</th>\n",
              "      <td>0</td>\n",
              "    </tr>\n",
              "    <tr>\n",
              "      <th>state_Telangana</th>\n",
              "      <td>0</td>\n",
              "    </tr>\n",
              "    <tr>\n",
              "      <th>state_Tripura</th>\n",
              "      <td>0</td>\n",
              "    </tr>\n",
              "    <tr>\n",
              "      <th>state_Uttar Pradesh</th>\n",
              "      <td>0</td>\n",
              "    </tr>\n",
              "    <tr>\n",
              "      <th>state_Uttarakhand</th>\n",
              "      <td>0</td>\n",
              "    </tr>\n",
              "    <tr>\n",
              "      <th>state_West Bengal</th>\n",
              "      <td>0</td>\n",
              "    </tr>\n",
              "    <tr>\n",
              "      <th>region_Central</th>\n",
              "      <td>0</td>\n",
              "    </tr>\n",
              "    <tr>\n",
              "      <th>region_East</th>\n",
              "      <td>0</td>\n",
              "    </tr>\n",
              "    <tr>\n",
              "      <th>region_North</th>\n",
              "      <td>0</td>\n",
              "    </tr>\n",
              "    <tr>\n",
              "      <th>region_North East</th>\n",
              "      <td>0</td>\n",
              "    </tr>\n",
              "    <tr>\n",
              "      <th>region_South</th>\n",
              "      <td>0</td>\n",
              "    </tr>\n",
              "    <tr>\n",
              "      <th>region_Unknown</th>\n",
              "      <td>0</td>\n",
              "    </tr>\n",
              "    <tr>\n",
              "      <th>region_West</th>\n",
              "      <td>0</td>\n",
              "    </tr>\n",
              "    <tr>\n",
              "      <th>flavor_profile_bitter</th>\n",
              "      <td>0</td>\n",
              "    </tr>\n",
              "    <tr>\n",
              "      <th>flavor_profile_sour</th>\n",
              "      <td>0</td>\n",
              "    </tr>\n",
              "    <tr>\n",
              "      <th>flavor_profile_spicy</th>\n",
              "      <td>0</td>\n",
              "    </tr>\n",
              "    <tr>\n",
              "      <th>flavor_profile_sweet</th>\n",
              "      <td>0</td>\n",
              "    </tr>\n",
              "  </tbody>\n",
              "</table>\n",
              "</div><br><label><b>dtype:</b> int64</label>"
            ]
          },
          "metadata": {},
          "execution_count": 4
        }
      ]
    },
    {
      "cell_type": "markdown",
      "source": [
        "Handling Missing Values"
      ],
      "metadata": {
        "id": "LcFdDRfyDzJn"
      }
    },
    {
      "cell_type": "code",
      "source": [
        "num_cols = df.select_dtypes(include=np.number).columns\n",
        "cat_cols = df.select_dtypes(include='object').columns"
      ],
      "metadata": {
        "id": "9okjAPsfDyuA"
      },
      "execution_count": null,
      "outputs": []
    },
    {
      "cell_type": "code",
      "source": [
        "df[num_cols]=df[num_cols].fillna(df[num_cols].mean())"
      ],
      "metadata": {
        "id": "uQYy9_QPEEVe"
      },
      "execution_count": null,
      "outputs": []
    },
    {
      "cell_type": "markdown",
      "source": [
        "Drroping irrelevant columns"
      ],
      "metadata": {
        "id": "OOxAuF4hF4Z-"
      }
    },
    {
      "cell_type": "code",
      "source": [
        "df = df.drop([\n",
        "    'course_maincourse', 'course_snack', 'course_starter',\n",
        "    'state_Andhra Pradesh', 'state_Assam', 'state_Bihar', 'state_Chhattisgarh',\n",
        "    'state_Goa', 'state_Gujarat', 'state_Haryana', 'state_Jammu & Kashmir',\n",
        "    'state_Karnataka', 'state_Kerala', 'state_Madhya Pradesh', 'state_Maharashtra',\n",
        "    'state_Manipur', 'state_NCT of Delhi', 'state_Nagaland', 'state_Odisha',\n",
        "    'state_Punjab', 'state_Rajasthan', 'state_Tamil Nadu', 'state_Telangana',\n",
        "    'state_Tripura', 'state_Uttar Pradesh', 'state_Uttarakhand', 'state_West Bengal',\n",
        "    'region_Central', 'region_East', 'region_North', 'region_North East',\n",
        "    'region_South', 'region_Unknown', 'region_West',\n",
        "    'flavor_profile_bitter', 'flavor_profile_sour', 'flavor_profile_spicy', 'flavor_profile_sweet'\n",
        "], axis=1, errors='ignore')\n"
      ],
      "metadata": {
        "id": "2XLF2nYfEN6o"
      },
      "execution_count": null,
      "outputs": []
    },
    {
      "cell_type": "code",
      "source": [
        "df=df.dropna()"
      ],
      "metadata": {
        "id": "l_ECSTKYF7so"
      },
      "execution_count": null,
      "outputs": []
    },
    {
      "cell_type": "code",
      "source": [
        "sns.histplot(df['prep_time'], kde=True)"
      ],
      "metadata": {
        "colab": {
          "base_uri": "https://localhost:8080/",
          "height": 468
        },
        "id": "HWIhwA94GeWG",
        "outputId": "00a12c8f-08cf-4e4f-d5f2-dcd8f0f3555f"
      },
      "execution_count": null,
      "outputs": [
        {
          "output_type": "execute_result",
          "data": {
            "text/plain": [
              "<Axes: xlabel='prep_time', ylabel='Count'>"
            ]
          },
          "metadata": {},
          "execution_count": 16
        },
        {
          "output_type": "display_data",
          "data": {
            "text/plain": [
              "<Figure size 640x480 with 1 Axes>"
            ],
            "image/png": "[encoded data removed]"
          },
          "metadata": {}
        }
      ]
    },
    {
      "cell_type": "code",
      "source": [
        "ndf=df.drop(df.select_dtypes(include='object').columns, axis=1)\n",
        "corr = ndf.corr()\n",
        "sns.heatmap(corr, annot=True, fmt=\".2f\")\n",
        "\n"
      ],
      "metadata": {
        "colab": {
          "base_uri": "https://localhost:8080/",
          "height": 578
        },
        "id": "26Vi0EPvHPYl",
        "outputId": "d2bf633f-75d0-4bcb-b3cb-2a7d3577a4f0"
      },
      "execution_count": null,
      "outputs": [
        {
          "output_type": "execute_result",
          "data": {
            "text/plain": [
              "<Axes: >"
            ]
          },
          "metadata": {},
          "execution_count": 20
        },
        {
          "output_type": "display_data",
          "data": {
            "text/plain": [
              "<Figure size 640x480 with 2 Axes>"
            ],
            "image/png": "[encoded data removed]"
          },
          "metadata": {}
        }
      ]
    },
    {
      "cell_type": "code",
      "source": [
        "from sklearn.preprocessing import LabelEncoder\n",
        "le = LabelEncoder()\n",
        "cat_cols = df.select_dtypes(include='object').columns\n",
        "for col in cat_cols:\n",
        "    df[col] = le.fit_transform(df[col])"
      ],
      "metadata": {
        "id": "RYl2SJvnHxbM"
      },
      "execution_count": null,
      "outputs": []
    },
    {
      "cell_type": "code",
      "source": [
        "df.info()"
      ],
      "metadata": {
        "colab": {
          "base_uri": "https://localhost:8080/"
        },
        "id": "j5bBKrywOk0-",
        "outputId": "3a86b80f-a82d-4fcb-baaf-d201ef021acc"
      },
      "execution_count": null,
      "outputs": [
        {
          "output_type": "stream",
          "name": "stdout",
          "text": [
            "<class 'pandas.core.frame.DataFrame'>\n",
            "RangeIndex: 255 entries, 0 to 254\n",
            "Data columns (total 7 columns):\n",
            " #   Column              Non-Null Count  Dtype\n",
            "---  ------              --------------  -----\n",
            " 0   name                255 non-null    int64\n",
            " 1   ingredients         255 non-null    int64\n",
            " 2   prep_time           255 non-null    int64\n",
            " 3   cook_time           255 non-null    int64\n",
            " 4   total_time          255 non-null    int64\n",
            " 5   diet_veg            255 non-null    bool \n",
            " 6   course_main course  255 non-null    bool \n",
            "dtypes: bool(2), int64(5)\n",
            "memory usage: 10.6 KB\n"
          ]
        }
      ]
    }
  ]
}